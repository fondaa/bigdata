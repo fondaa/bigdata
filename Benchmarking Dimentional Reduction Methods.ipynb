{
 "cells": [
  {
   "cell_type": "code",
   "execution_count": 1,
   "id": "ccc87642",
   "metadata": {},
   "outputs": [],
   "source": [
    "# Principal Components Regression (PCR)"
   ]
  },
  {
   "cell_type": "code",
   "execution_count": 2,
   "id": "a45544a9",
   "metadata": {},
   "outputs": [
    {
     "name": "stdout",
     "output_type": "stream",
     "text": [
      "\n",
      "  There is a binary version available but the source version is later:\n",
      "    binary source needs_compilation\n",
      "pls  2.7-3  2.8-0             FALSE\n",
      "\n"
     ]
    },
    {
     "name": "stderr",
     "output_type": "stream",
     "text": [
      "installing the source package 'pls'\n",
      "\n"
     ]
    }
   ],
   "source": [
    "install.packages(\"pls\")"
   ]
  },
  {
   "cell_type": "code",
   "execution_count": 3,
   "id": "cdaf6df4",
   "metadata": {},
   "outputs": [
    {
     "name": "stderr",
     "output_type": "stream",
     "text": [
      "\n",
      "Attaching package: 'pls'\n",
      "\n",
      "The following object is masked from 'package:stats':\n",
      "\n",
      "    loadings\n",
      "\n"
     ]
    }
   ],
   "source": [
    "library(pls)"
   ]
  },
  {
   "cell_type": "code",
   "execution_count": 4,
   "id": "27a1d2ce",
   "metadata": {},
   "outputs": [],
   "source": [
    "library(ISLR)"
   ]
  },
  {
   "cell_type": "code",
   "execution_count": 5,
   "id": "677e65ec",
   "metadata": {},
   "outputs": [],
   "source": [
    "fix(Hitters)"
   ]
  },
  {
   "cell_type": "code",
   "execution_count": 6,
   "id": "d7a97a71",
   "metadata": {},
   "outputs": [
    {
     "data": {
      "text/html": [
       "<ol class=list-inline>\n",
       "\t<li>'AtBat'</li>\n",
       "\t<li>'Hits'</li>\n",
       "\t<li>'HmRun'</li>\n",
       "\t<li>'Runs'</li>\n",
       "\t<li>'RBI'</li>\n",
       "\t<li>'Walks'</li>\n",
       "\t<li>'Years'</li>\n",
       "\t<li>'CAtBat'</li>\n",
       "\t<li>'CHits'</li>\n",
       "\t<li>'CHmRun'</li>\n",
       "\t<li>'CRuns'</li>\n",
       "\t<li>'CRBI'</li>\n",
       "\t<li>'CWalks'</li>\n",
       "\t<li>'League'</li>\n",
       "\t<li>'Division'</li>\n",
       "\t<li>'PutOuts'</li>\n",
       "\t<li>'Assists'</li>\n",
       "\t<li>'Errors'</li>\n",
       "\t<li>'Salary'</li>\n",
       "\t<li>'NewLeague'</li>\n",
       "</ol>\n"
      ],
      "text/latex": [
       "\\begin{enumerate*}\n",
       "\\item 'AtBat'\n",
       "\\item 'Hits'\n",
       "\\item 'HmRun'\n",
       "\\item 'Runs'\n",
       "\\item 'RBI'\n",
       "\\item 'Walks'\n",
       "\\item 'Years'\n",
       "\\item 'CAtBat'\n",
       "\\item 'CHits'\n",
       "\\item 'CHmRun'\n",
       "\\item 'CRuns'\n",
       "\\item 'CRBI'\n",
       "\\item 'CWalks'\n",
       "\\item 'League'\n",
       "\\item 'Division'\n",
       "\\item 'PutOuts'\n",
       "\\item 'Assists'\n",
       "\\item 'Errors'\n",
       "\\item 'Salary'\n",
       "\\item 'NewLeague'\n",
       "\\end{enumerate*}\n"
      ],
      "text/markdown": [
       "1. 'AtBat'\n",
       "2. 'Hits'\n",
       "3. 'HmRun'\n",
       "4. 'Runs'\n",
       "5. 'RBI'\n",
       "6. 'Walks'\n",
       "7. 'Years'\n",
       "8. 'CAtBat'\n",
       "9. 'CHits'\n",
       "10. 'CHmRun'\n",
       "11. 'CRuns'\n",
       "12. 'CRBI'\n",
       "13. 'CWalks'\n",
       "14. 'League'\n",
       "15. 'Division'\n",
       "16. 'PutOuts'\n",
       "17. 'Assists'\n",
       "18. 'Errors'\n",
       "19. 'Salary'\n",
       "20. 'NewLeague'\n",
       "\n",
       "\n"
      ],
      "text/plain": [
       " [1] \"AtBat\"     \"Hits\"      \"HmRun\"     \"Runs\"      \"RBI\"       \"Walks\"    \n",
       " [7] \"Years\"     \"CAtBat\"    \"CHits\"     \"CHmRun\"    \"CRuns\"     \"CRBI\"     \n",
       "[13] \"CWalks\"    \"League\"    \"Division\"  \"PutOuts\"   \"Assists\"   \"Errors\"   \n",
       "[19] \"Salary\"    \"NewLeague\""
      ]
     },
     "metadata": {},
     "output_type": "display_data"
    }
   ],
   "source": [
    "names(Hitters)"
   ]
  },
  {
   "cell_type": "code",
   "execution_count": 7,
   "id": "0227e4e0",
   "metadata": {},
   "outputs": [
    {
     "data": {
      "text/html": [
       "<ol class=list-inline>\n",
       "\t<li>322</li>\n",
       "\t<li>20</li>\n",
       "</ol>\n"
      ],
      "text/latex": [
       "\\begin{enumerate*}\n",
       "\\item 322\n",
       "\\item 20\n",
       "\\end{enumerate*}\n"
      ],
      "text/markdown": [
       "1. 322\n",
       "2. 20\n",
       "\n",
       "\n"
      ],
      "text/plain": [
       "[1] 322  20"
      ]
     },
     "metadata": {},
     "output_type": "display_data"
    }
   ],
   "source": [
    "dim(Hitters)"
   ]
  },
  {
   "cell_type": "code",
   "execution_count": 8,
   "id": "ad093f61",
   "metadata": {},
   "outputs": [
    {
     "data": {
      "text/html": [
       "59"
      ],
      "text/latex": [
       "59"
      ],
      "text/markdown": [
       "59"
      ],
      "text/plain": [
       "[1] 59"
      ]
     },
     "metadata": {},
     "output_type": "display_data"
    }
   ],
   "source": [
    "sum(is.na(Hitters$Salary))"
   ]
  },
  {
   "cell_type": "code",
   "execution_count": 9,
   "id": "9d6c7b04",
   "metadata": {},
   "outputs": [],
   "source": [
    "Hitters = na.omit(Hitters)"
   ]
  },
  {
   "cell_type": "code",
   "execution_count": 10,
   "id": "81017d38",
   "metadata": {},
   "outputs": [
    {
     "data": {
      "text/html": [
       "<ol class=list-inline>\n",
       "\t<li>263</li>\n",
       "\t<li>20</li>\n",
       "</ol>\n"
      ],
      "text/latex": [
       "\\begin{enumerate*}\n",
       "\\item 263\n",
       "\\item 20\n",
       "\\end{enumerate*}\n"
      ],
      "text/markdown": [
       "1. 263\n",
       "2. 20\n",
       "\n",
       "\n"
      ],
      "text/plain": [
       "[1] 263  20"
      ]
     },
     "metadata": {},
     "output_type": "display_data"
    }
   ],
   "source": [
    "dim(Hitters)"
   ]
  },
  {
   "cell_type": "code",
   "execution_count": 11,
   "id": "66ece153",
   "metadata": {},
   "outputs": [
    {
     "data": {
      "text/html": [
       "0"
      ],
      "text/latex": [
       "0"
      ],
      "text/markdown": [
       "0"
      ],
      "text/plain": [
       "[1] 0"
      ]
     },
     "metadata": {},
     "output_type": "display_data"
    }
   ],
   "source": [
    "sum(is.na(Hitters))"
   ]
  },
  {
   "cell_type": "code",
   "execution_count": 12,
   "id": "828c77e0",
   "metadata": {},
   "outputs": [],
   "source": [
    "set.seed(2)"
   ]
  },
  {
   "cell_type": "code",
   "execution_count": 13,
   "id": "dce2b11b",
   "metadata": {},
   "outputs": [],
   "source": [
    "pcr.fit = pcr (Salary~.,data=Hitters,scale=TRUE,validation=\"CV\")"
   ]
  },
  {
   "cell_type": "code",
   "execution_count": 14,
   "id": "f2faf099",
   "metadata": {},
   "outputs": [
    {
     "name": "stdout",
     "output_type": "stream",
     "text": [
      "Data: \tX dimension: 263 19 \n",
      "\tY dimension: 263 1\n",
      "Fit method: svdpc\n",
      "Number of components considered: 19\n",
      "\n",
      "VALIDATION: RMSEP\n",
      "Cross-validated using 10 random segments.\n",
      "       (Intercept)  1 comps  2 comps  3 comps  4 comps  5 comps  6 comps\n",
      "CV             452    351.9    353.2    355.0    352.8    348.4    343.6\n",
      "adjCV          452    351.6    352.7    354.4    352.1    347.6    342.7\n",
      "       7 comps  8 comps  9 comps  10 comps  11 comps  12 comps  13 comps\n",
      "CV       345.5    347.7    349.6     351.4     352.1     353.5     358.2\n",
      "adjCV    344.7    346.7    348.5     350.1     350.7     352.0     356.5\n",
      "       14 comps  15 comps  16 comps  17 comps  18 comps  19 comps\n",
      "CV        349.7     349.4     339.9     341.6     339.2     339.6\n",
      "adjCV     348.0     347.7     338.2     339.7     337.2     337.6\n",
      "\n",
      "TRAINING: % variance explained\n",
      "        1 comps  2 comps  3 comps  4 comps  5 comps  6 comps  7 comps  8 comps\n",
      "X         38.31    60.16    70.84    79.03    84.29    88.63    92.26    94.96\n",
      "Salary    40.63    41.58    42.17    43.22    44.90    46.48    46.69    46.75\n",
      "        9 comps  10 comps  11 comps  12 comps  13 comps  14 comps  15 comps\n",
      "X         96.28     97.26     97.98     98.65     99.15     99.47     99.75\n",
      "Salary    46.86     47.76     47.82     47.85     48.10     50.40     50.55\n",
      "        16 comps  17 comps  18 comps  19 comps\n",
      "X          99.89     99.97     99.99    100.00\n",
      "Salary     53.01     53.85     54.61     54.61\n"
     ]
    }
   ],
   "source": [
    "summary(pcr.fit)"
   ]
  },
  {
   "cell_type": "code",
   "execution_count": 15,
   "id": "d82995c8",
   "metadata": {},
   "outputs": [
    {
     "data": {
      "image/png": "[encoded data removed]",
      "text/plain": [
       "Plot with title \"Salary\""
      ]
     },
     "metadata": {},
     "output_type": "display_data"
    }
   ],
   "source": [
    "validationplot(pcr.fit,val.type = \"MSEP\")"
   ]
  },
  {
   "cell_type": "code",
   "execution_count": 16,
   "id": "55159898",
   "metadata": {},
   "outputs": [],
   "source": [
    "set.seed(1)"
   ]
  },
  {
   "cell_type": "code",
   "execution_count": 17,
   "id": "00d35a53",
   "metadata": {},
   "outputs": [],
   "source": [
    "train = sample(c(TRUE,FALSE),nrow(Hitters),rep=TRUE)"
   ]
  },
  {
   "cell_type": "code",
   "execution_count": 18,
   "id": "086aee70",
   "metadata": {},
   "outputs": [],
   "source": [
    "test=(!train)"
   ]
  },
  {
   "cell_type": "code",
   "execution_count": 19,
   "id": "065bdcf6",
   "metadata": {},
   "outputs": [],
   "source": [
    "x = model.matrix(Salary~.,Hitters)[,-1]"
   ]
  },
  {
   "cell_type": "code",
   "execution_count": 20,
   "id": "bef1cc44",
   "metadata": {},
   "outputs": [],
   "source": [
    "y = Hitters$Salary"
   ]
  },
  {
   "cell_type": "code",
   "execution_count": 21,
   "id": "7bc1500b",
   "metadata": {},
   "outputs": [],
   "source": [
    "set.seed(1)"
   ]
  },
  {
   "cell_type": "code",
   "execution_count": 22,
   "id": "23c882c9",
   "metadata": {},
   "outputs": [],
   "source": [
    "train = sample(1:nrow(x),nrow(x)/2)"
   ]
  },
  {
   "cell_type": "code",
   "execution_count": 23,
   "id": "0a81e431",
   "metadata": {},
   "outputs": [],
   "source": [
    "test = (-train)"
   ]
  },
  {
   "cell_type": "code",
   "execution_count": 24,
   "id": "0060b92f",
   "metadata": {},
   "outputs": [],
   "source": [
    "y.test = y[test]"
   ]
  },
  {
   "cell_type": "code",
   "execution_count": null,
   "id": "5ca4e97d",
   "metadata": {},
   "outputs": [],
   "source": []
  },
  {
   "cell_type": "code",
   "execution_count": null,
   "id": "20d6a083",
   "metadata": {},
   "outputs": [],
   "source": []
  },
  {
   "cell_type": "code",
   "execution_count": 25,
   "id": "66200fe5",
   "metadata": {},
   "outputs": [],
   "source": [
    "# perform PCR on the training data and evaluate its test set performance"
   ]
  },
  {
   "cell_type": "code",
   "execution_count": 26,
   "id": "554b5232",
   "metadata": {},
   "outputs": [],
   "source": [
    "set.seed(1)"
   ]
  },
  {
   "cell_type": "code",
   "execution_count": 27,
   "id": "ddcae13e",
   "metadata": {},
   "outputs": [],
   "source": [
    "pcr.fit = pcr (Salary~.,data=Hitters,subset = train, scale=TRUE,validation=\"CV\")"
   ]
  },
  {
   "cell_type": "code",
   "execution_count": 28,
   "id": "8d14512a",
   "metadata": {},
   "outputs": [
    {
     "data": {
      "image/png": "[encoded data removed]",
      "text/plain": [
       "Plot with title \"Salary\""
      ]
     },
     "metadata": {},
     "output_type": "display_data"
    }
   ],
   "source": [
    "validationplot(pcr.fit,val.type=\"MSEP\")"
   ]
  },
  {
   "cell_type": "code",
   "execution_count": 47,
   "id": "2704d8cc",
   "metadata": {},
   "outputs": [],
   "source": [
    "pcr.pred = predict(pcr.fit, x[test,],ncomp=5)"
   ]
  },
  {
   "cell_type": "code",
   "execution_count": 30,
   "id": "68a50639",
   "metadata": {},
   "outputs": [
    {
     "data": {
      "text/html": [
       "142811.810376319"
      ],
      "text/latex": [
       "142811.810376319"
      ],
      "text/markdown": [
       "142811.810376319"
      ],
      "text/plain": [
       "[1] 142811.8"
      ]
     },
     "metadata": {},
     "output_type": "display_data"
    }
   ],
   "source": [
    "mean((pcr.pred-y.test)^2)"
   ]
  },
  {
   "cell_type": "code",
   "execution_count": 31,
   "id": "f65d13e4",
   "metadata": {},
   "outputs": [],
   "source": [
    "pcr.fit=pcr(y~x,scale=TRUE,ncomp=5)"
   ]
  },
  {
   "cell_type": "code",
   "execution_count": 32,
   "id": "df79a756",
   "metadata": {},
   "outputs": [
    {
     "name": "stdout",
     "output_type": "stream",
     "text": [
      "Data: \tX dimension: 263 19 \n",
      "\tY dimension: 263 1\n",
      "Fit method: svdpc\n",
      "Number of components considered: 5\n",
      "TRAINING: % variance explained\n",
      "   1 comps  2 comps  3 comps  4 comps  5 comps\n",
      "X    38.31    60.16    70.84    79.03    84.29\n",
      "y    40.63    41.58    42.17    43.22    44.90\n"
     ]
    }
   ],
   "source": [
    "summary(pcr.fit)"
   ]
  },
  {
   "cell_type": "code",
   "execution_count": 33,
   "id": "adcabc45",
   "metadata": {},
   "outputs": [],
   "source": [
    "# Partial Least Squares (PLS)"
   ]
  },
  {
   "cell_type": "code",
   "execution_count": 34,
   "id": "a64ddd68",
   "metadata": {},
   "outputs": [],
   "source": [
    "set.seed(1)"
   ]
  },
  {
   "cell_type": "code",
   "execution_count": 35,
   "id": "e241c274",
   "metadata": {},
   "outputs": [],
   "source": [
    "pls.fit = plsr(Salary~., data = Hitters, subset = train, scale = TRUE, validation = \"CV\")"
   ]
  },
  {
   "cell_type": "code",
   "execution_count": 36,
   "id": "3122245b",
   "metadata": {},
   "outputs": [
    {
     "name": "stdout",
     "output_type": "stream",
     "text": [
      "Data: \tX dimension: 131 19 \n",
      "\tY dimension: 131 1\n",
      "Fit method: kernelpls\n",
      "Number of components considered: 19\n",
      "\n",
      "VALIDATION: RMSEP\n",
      "Cross-validated using 10 random segments.\n",
      "       (Intercept)  1 comps  2 comps  3 comps  4 comps  5 comps  6 comps\n",
      "CV           428.3    325.5    329.9    328.8    339.0    338.9    340.1\n",
      "adjCV        428.3    325.0    328.2    327.2    336.6    336.1    336.6\n",
      "       7 comps  8 comps  9 comps  10 comps  11 comps  12 comps  13 comps\n",
      "CV       339.0    347.1    346.4     343.4     341.5     345.4     356.4\n",
      "adjCV    336.2    343.4    342.8     340.2     338.3     341.8     351.1\n",
      "       14 comps  15 comps  16 comps  17 comps  18 comps  19 comps\n",
      "CV        348.4     349.1     350.0     344.2     344.5     345.0\n",
      "adjCV     344.2     345.0     345.9     340.4     340.6     341.1\n",
      "\n",
      "TRAINING: % variance explained\n",
      "        1 comps  2 comps  3 comps  4 comps  5 comps  6 comps  7 comps  8 comps\n",
      "X         39.13    48.80    60.09    75.07    78.58    81.12    88.21    90.71\n",
      "Salary    46.36    50.72    52.23    53.03    54.07    54.77    55.05    55.66\n",
      "        9 comps  10 comps  11 comps  12 comps  13 comps  14 comps  15 comps\n",
      "X         93.17     96.05     97.08     97.61     97.97     98.70     99.12\n",
      "Salary    55.95     56.12     56.47     56.68     57.37     57.76     58.08\n",
      "        16 comps  17 comps  18 comps  19 comps\n",
      "X          99.61     99.70     99.95    100.00\n",
      "Salary     58.17     58.49     58.56     58.62\n"
     ]
    }
   ],
   "source": [
    "summary(pls.fit)"
   ]
  },
  {
   "cell_type": "code",
   "execution_count": 37,
   "id": "352403c5",
   "metadata": {},
   "outputs": [],
   "source": [
    "# Now evaluate the test set MSE"
   ]
  },
  {
   "cell_type": "code",
   "execution_count": 38,
   "id": "1495ebff",
   "metadata": {},
   "outputs": [],
   "source": [
    "pls.pred = predict(pls.fit, x[test,],ncomp=2)"
   ]
  },
  {
   "cell_type": "code",
   "execution_count": 39,
   "id": "c3ffe288",
   "metadata": {},
   "outputs": [
    {
     "data": {
      "text/html": [
       "145367.722827519"
      ],
      "text/latex": [
       "145367.722827519"
      ],
      "text/markdown": [
       "145367.722827519"
      ],
      "text/plain": [
       "[1] 145367.7"
      ]
     },
     "metadata": {},
     "output_type": "display_data"
    }
   ],
   "source": [
    "mean((pls.pred - y.test)^2)"
   ]
  },
  {
   "cell_type": "code",
   "execution_count": 40,
   "id": "87022c6e",
   "metadata": {},
   "outputs": [],
   "source": [
    "pls.fit = plsr(Salary~., data = Hitters, scale=TRUE, ncomp=2)"
   ]
  },
  {
   "cell_type": "code",
   "execution_count": 41,
   "id": "9898004d",
   "metadata": {},
   "outputs": [
    {
     "name": "stdout",
     "output_type": "stream",
     "text": [
      "Data: \tX dimension: 263 19 \n",
      "\tY dimension: 263 1\n",
      "Fit method: kernelpls\n",
      "Number of components considered: 2\n",
      "TRAINING: % variance explained\n",
      "        1 comps  2 comps\n",
      "X         38.08    51.03\n",
      "Salary    43.05    46.40\n"
     ]
    }
   ],
   "source": [
    "summary(pls.fit)"
   ]
  },
  {
   "cell_type": "code",
   "execution_count": 42,
   "id": "906445f5",
   "metadata": {},
   "outputs": [],
   "source": [
    "# compare with linear regression"
   ]
  },
  {
   "cell_type": "code",
   "execution_count": 43,
   "id": "8ddfaa0d",
   "metadata": {},
   "outputs": [
    {
     "name": "stderr",
     "output_type": "stream",
     "text": [
      "Warning message:\n",
      "\"package 'MASS' was built under R version 3.6.3\""
     ]
    }
   ],
   "source": [
    "library(MASS)"
   ]
  },
  {
   "cell_type": "code",
   "execution_count": 44,
   "id": "257cd1db",
   "metadata": {},
   "outputs": [],
   "source": [
    "lm.fit = lm(Salary~.,data=Hitters)"
   ]
  },
  {
   "cell_type": "code",
   "execution_count": 50,
   "id": "3af9db78",
   "metadata": {},
   "outputs": [],
   "source": [
    "smlm = summary(lm.fit)"
   ]
  },
  {
   "cell_type": "code",
   "execution_count": 53,
   "id": "b1e46147",
   "metadata": {},
   "outputs": [
    {
     "data": {
      "text/html": [
       "<strong>dendf:</strong> 92017.8690177292"
      ],
      "text/latex": [
       "\\textbf{dendf:} 92017.8690177292"
      ],
      "text/markdown": [
       "**dendf:** 92017.8690177292"
      ],
      "text/plain": [
       "   dendf \n",
       "92017.87 "
      ]
     },
     "metadata": {},
     "output_type": "display_data"
    }
   ],
   "source": [
    "smlm$sigma^2 * smlm$fstatistic[3]/(1+sum(smlm$fstatistic[2:3]))"
   ]
  },
  {
   "cell_type": "code",
   "execution_count": 57,
   "id": "649f2cae",
   "metadata": {},
   "outputs": [],
   "source": [
    "# Ridge Regression"
   ]
  },
  {
   "cell_type": "code",
   "execution_count": 58,
   "id": "a68c6588",
   "metadata": {},
   "outputs": [],
   "source": [
    "x = model.matrix(Salary~., Hitters)[,-1]"
   ]
  },
  {
   "cell_type": "code",
   "execution_count": 59,
   "id": "68020d68",
   "metadata": {},
   "outputs": [],
   "source": [
    "y = Hitters$Salary"
   ]
  },
  {
   "cell_type": "code",
   "execution_count": 60,
   "id": "f649e626",
   "metadata": {},
   "outputs": [
    {
     "name": "stderr",
     "output_type": "stream",
     "text": [
      "Loading required package: Matrix\n",
      "Loading required package: foreach\n",
      "Loaded glmnet 2.0-16\n",
      "\n"
     ]
    }
   ],
   "source": [
    "library(glmnet)"
   ]
  },
  {
   "cell_type": "code",
   "execution_count": 61,
   "id": "409ba043",
   "metadata": {},
   "outputs": [],
   "source": [
    "grid = 10^seq(10,-2,length = 100)"
   ]
  },
  {
   "cell_type": "code",
   "execution_count": 62,
   "id": "7466484b",
   "metadata": {},
   "outputs": [],
   "source": [
    "ridge.mod = glmnet(x,y,alpha=0,lambda=grid)"
   ]
  },
  {
   "cell_type": "code",
   "execution_count": 63,
   "id": "ee834aa8",
   "metadata": {},
   "outputs": [
    {
     "data": {
      "text/html": [
       "<ol class=list-inline>\n",
       "\t<li>20</li>\n",
       "\t<li>100</li>\n",
       "</ol>\n"
      ],
      "text/latex": [
       "\\begin{enumerate*}\n",
       "\\item 20\n",
       "\\item 100\n",
       "\\end{enumerate*}\n"
      ],
      "text/markdown": [
       "1. 20\n",
       "2. 100\n",
       "\n",
       "\n"
      ],
      "text/plain": [
       "[1]  20 100"
      ]
     },
     "metadata": {},
     "output_type": "display_data"
    }
   ],
   "source": [
    "dim(coef(ridge.mod))"
   ]
  },
  {
   "cell_type": "code",
   "execution_count": 65,
   "id": "592dd836",
   "metadata": {},
   "outputs": [],
   "source": [
    "set.seed(1)"
   ]
  },
  {
   "cell_type": "code",
   "execution_count": 66,
   "id": "a84d3b2b",
   "metadata": {},
   "outputs": [],
   "source": [
    "train=sample(1:nrow(x),nrow(x)/2)"
   ]
  },
  {
   "cell_type": "code",
   "execution_count": 67,
   "id": "2142e505",
   "metadata": {},
   "outputs": [],
   "source": [
    "test=(-train)"
   ]
  },
  {
   "cell_type": "code",
   "execution_count": 68,
   "id": "ebfb2474",
   "metadata": {},
   "outputs": [],
   "source": [
    "y.test=y[test]"
   ]
  },
  {
   "cell_type": "code",
   "execution_count": 69,
   "id": "5e33292f",
   "metadata": {},
   "outputs": [],
   "source": [
    "ridge.mod = glmnet(x[train,],y[train],alpha=0,lambda=grid,thresh=1e-12)"
   ]
  },
  {
   "cell_type": "code",
   "execution_count": 70,
   "id": "c197e6e0",
   "metadata": {},
   "outputs": [],
   "source": [
    "ridge.pred=predict(ridge.mod,s=4,newx=x[test,])"
   ]
  },
  {
   "cell_type": "code",
   "execution_count": 71,
   "id": "a8399472",
   "metadata": {},
   "outputs": [
    {
     "data": {
      "text/html": [
       "142199.150722761"
      ],
      "text/latex": [
       "142199.150722761"
      ],
      "text/markdown": [
       "142199.150722761"
      ],
      "text/plain": [
       "[1] 142199.2"
      ]
     },
     "metadata": {},
     "output_type": "display_data"
    }
   ],
   "source": [
    "mean((ridge.pred-y.test)^2)"
   ]
  },
  {
   "cell_type": "code",
   "execution_count": 72,
   "id": "f667c8bc",
   "metadata": {},
   "outputs": [],
   "source": [
    "# Lasso"
   ]
  },
  {
   "cell_type": "code",
   "execution_count": 73,
   "id": "6b0292d7",
   "metadata": {},
   "outputs": [],
   "source": [
    "lasso.mod=glmnet(x[train,],y[train],alpha=1,lambda=grid)"
   ]
  },
  {
   "cell_type": "code",
   "execution_count": 74,
   "id": "1abc066d",
   "metadata": {},
   "outputs": [
    {
     "name": "stderr",
     "output_type": "stream",
     "text": [
      "Warning message in regularize.values(x, y, ties, missing(ties)):\n",
      "\"collapsing to unique 'x' values\""
     ]
    },
    {
     "data": {
      "image/png": "[encoded data removed]",
      "text/plain": [
       "plot without title"
      ]
     },
     "metadata": {},
     "output_type": "display_data"
    }
   ],
   "source": [
    "plot(lasso.mod)"
   ]
  },
  {
   "cell_type": "code",
   "execution_count": 75,
   "id": "3942991b",
   "metadata": {},
   "outputs": [],
   "source": [
    "set.seed(1)"
   ]
  },
  {
   "cell_type": "code",
   "execution_count": 76,
   "id": "b47282e2",
   "metadata": {},
   "outputs": [],
   "source": [
    "cv.out=cv.glmnet(x[train,],y[train],alpha=1)"
   ]
  },
  {
   "cell_type": "code",
   "execution_count": 77,
   "id": "8cb380f1",
   "metadata": {},
   "outputs": [
    {
     "data": {
      "image/png": "[encoded data removed]",
      "text/plain": [
       "plot without title"
      ]
     },
     "metadata": {},
     "output_type": "display_data"
    }
   ],
   "source": [
    "plot(cv.out)"
   ]
  },
  {
   "cell_type": "code",
   "execution_count": 78,
   "id": "2cf151b8",
   "metadata": {},
   "outputs": [],
   "source": [
    "bestlam=cv.out$lambda.min"
   ]
  },
  {
   "cell_type": "code",
   "execution_count": 79,
   "id": "d5ce04f7",
   "metadata": {},
   "outputs": [],
   "source": [
    "lasso.pred=predict(lasso.mod,s=bestlam,newx=x[test,])"
   ]
  },
  {
   "cell_type": "code",
   "execution_count": 80,
   "id": "7bb1a736",
   "metadata": {},
   "outputs": [
    {
     "data": {
      "text/html": [
       "143673.618543046"
      ],
      "text/latex": [
       "143673.618543046"
      ],
      "text/markdown": [
       "143673.618543046"
      ],
      "text/plain": [
       "[1] 143673.6"
      ]
     },
     "metadata": {},
     "output_type": "display_data"
    }
   ],
   "source": [
    "mean((lasso.pred-y.test)^2)"
   ]
  },
  {
   "cell_type": "code",
   "execution_count": null,
   "id": "472c3663",
   "metadata": {},
   "outputs": [],
   "source": []
  }
 ],
 "metadata": {
  "kernelspec": {
   "display_name": "R",
   "language": "R",
   "name": "ir"
  },
  "language_info": {
   "codemirror_mode": "r",
   "file_extension": ".r",
   "mimetype": "text/x-r-source",
   "name": "R",
   "pygments_lexer": "r",
   "version": "3.6.1"
  }
 },
 "nbformat": 4,
 "nbformat_minor": 5
}
